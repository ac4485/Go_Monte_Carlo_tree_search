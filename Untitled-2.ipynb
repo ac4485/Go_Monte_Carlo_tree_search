{
 "cells": [
  {
   "cell_type": "code",
   "execution_count": 1,
   "metadata": {},
   "outputs": [],
   "source": [
    "from Competition import Competition\n",
    "from Random_Agent import Random_Agent\n",
    "from MCTS_agent import MCTS_agent\n",
    "from Tree import Tree\n",
    "import numpy as np\n",
    "from copy import copy, deepcopy\n",
    "from Go import Go\n",
    "\n",
    "import multiprocessing as mp\n",
    "import random"
   ]
  },
  {
   "cell_type": "code",
   "execution_count": null,
   "metadata": {},
   "outputs": [],
   "source": [
    "c1 = Competition(8)\n",
    "\n",
    "c1.turns(1)"
   ]
  },
  {
   "cell_type": "code",
   "execution_count": 2,
   "metadata": {},
   "outputs": [
    {
     "data": {
      "text/plain": [
       "[False,\n",
       " False,\n",
       " False,\n",
       " False,\n",
       " False,\n",
       " True,\n",
       " False,\n",
       " False,\n",
       " False,\n",
       " False,\n",
       " False,\n",
       " True,\n",
       " False,\n",
       " True,\n",
       " False,\n",
       " True,\n",
       " True,\n",
       " False,\n",
       " False,\n",
       " True]"
      ]
     },
     "execution_count": 2,
     "metadata": {},
     "output_type": "execute_result"
    }
   ],
   "source": [
    "c1 = Competition(8)\n",
    "c1.turns(20)"
   ]
  },
  {
   "cell_type": "code",
   "execution_count": null,
   "metadata": {},
   "outputs": [],
   "source": [
    "[False,\n",
    " False,\n",
    " False,\n",
    " False,\n",
    " False,\n",
    " True,\n",
    " False,\n",
    " False,\n",
    " False,\n",
    " False,\n",
    " False,\n",
    " True,\n",
    " False,\n",
    " True,\n",
    " False,\n",
    " True,\n",
    " True,\n",
    " False,\n",
    " False,\n",
    " True]# rvr"
   ]
  },
  {
   "cell_type": "code",
   "execution_count": null,
   "metadata": {},
   "outputs": [],
   "source": [
    "\n",
    "g = Go()\n",
    "a1 = Random_Agent()\n",
    "mc1 = MCTS_agent(5,3,10)\n",
    "r0,r1 = a1.move(g)\n",
    "g.make_a_move(r0,r1)\n",
    "mc1.move(g)"
   ]
  },
  {
   "cell_type": "code",
   "execution_count": null,
   "metadata": {},
   "outputs": [],
   "source": [
    "\n",
    "g = Go()\n",
    "a1 = Random_Agent()\n",
    "r0,r1 = a1.move(g)\n",
    "g.make_a_move(r0,r1)\n",
    "# g.print_board()\n",
    "# r1 = a1.move(g)\n",
    "depp = 3\n",
    "level = 2\n",
    "ds,sd,last_nodes = MCTS_agent._expansion(g,level,depp)\n",
    "\n"
   ]
  },
  {
   "cell_type": "code",
   "execution_count": null,
   "metadata": {},
   "outputs": [],
   "source": [
    "aa = MCTS_agent._simulations(sd,depp,4)"
   ]
  },
  {
   "cell_type": "code",
   "execution_count": null,
   "metadata": {},
   "outputs": [],
   "source": [
    "MCTS_agent._backpropagation(last_nodes,aa)"
   ]
  },
  {
   "cell_type": "code",
   "execution_count": null,
   "metadata": {},
   "outputs": [],
   "source": [
    "ds[0].root.print_node()"
   ]
  },
  {
   "cell_type": "code",
   "execution_count": null,
   "metadata": {},
   "outputs": [],
   "source": [
    "ubcs = []\n",
    "for a in ds:\n",
    "  wimlo1 = a.root.get_win() - a.root.get_loss_count()\n",
    "  ubcs.append(MCTS_agent.ucb1(wimlo1, a.root.get_visited_count(),2.3,a.get_leaf_num() * level))"
   ]
  },
  {
   "cell_type": "code",
   "execution_count": null,
   "metadata": {},
   "outputs": [],
   "source": [
    "ds[ubcs.index(max(ubcs))].root.get_data()"
   ]
  },
  {
   "cell_type": "code",
   "execution_count": null,
   "metadata": {},
   "outputs": [],
   "source": [
    "g = Go()\n",
    "a1 = Random_Agent()\n",
    "r0,r1 = a1.move(g)\n",
    "g.make_a_move(r0,r1)\n",
    "print(np.where(np.atleast_1d(g.board) != 0))\n",
    "print(g.player1_trunks)\n",
    "print(g.player2_trunks)\n",
    "g2 = deepcopy(g)\n",
    "a,b = a1.move(g2)\n",
    "g2.make_a_move(a,b)\n",
    "print(np.where(np.atleast_1d(g2.board) != 0))\n",
    "print(g2.player1_trunks)\n",
    "print(g2.player2_trunks)"
   ]
  },
  {
   "cell_type": "code",
   "execution_count": null,
   "metadata": {},
   "outputs": [],
   "source": [
    "g.player1_trunks"
   ]
  },
  {
   "cell_type": "code",
   "execution_count": null,
   "metadata": {},
   "outputs": [],
   "source": [
    "g.player2_trunks"
   ]
  },
  {
   "cell_type": "code",
   "execution_count": null,
   "metadata": {},
   "outputs": [],
   "source": [
    "print(np.where(np.atleast_1d(g.board) != 0))"
   ]
  },
  {
   "cell_type": "code",
   "execution_count": null,
   "metadata": {},
   "outputs": [],
   "source": [
    "gyt = deepcopy(g)\n",
    "a1 = Random_Agent()\n",
    "r0,r1 = a1.move(g)\n",
    "gyt.make_a_move(r0,r1)\n",
    "gyt.print_board()\n",
    "print(np.where(np.atleast_1d(gyt.board) != 0))"
   ]
  },
  {
   "cell_type": "code",
   "execution_count": null,
   "metadata": {},
   "outputs": [],
   "source": [
    "rer = Tree()\n",
    "rer.set_current_data((2,2))\n",
    "print(rer.get_current_data())\n",
    "rer.add_child((3,4))\n",
    "rer.add_child((12,4))\n",
    "rer.cursor_down((3,4))\n",
    "rer.add_child((5,5))\n",
    "print(rer.get_total_layer_num())\n",
    "rer.bfs()"
   ]
  },
  {
   "cell_type": "code",
   "execution_count": null,
   "metadata": {},
   "outputs": [],
   "source": [
    "gg = Go()\n",
    "# mc1 = MCTS_agent()\n",
    "\n",
    "\n",
    "# mc1._move(gg,i=4)\n",
    "rr = []\n",
    "tre1 = Tree()\n",
    "MCTS_agent._expansion(tre1,gg.possible_moves()[0],gg,2,2,2)\n",
    "cc = tre1.get_cursor()\n",
    "\n",
    "while cc.get_parent() !=None:\n",
    "  print(cc.get_data())\n",
    "  cc = cc.get_parent()\n",
    "  \n",
    "tre1.bfs()\n",
    "  "
   ]
  },
  {
   "cell_type": "code",
   "execution_count": null,
   "metadata": {},
   "outputs": [],
   "source": [
    "\n",
    "\n",
    "r = Random_Agent()\n",
    "for _ in range(1):\n",
    "  g = Go()\n",
    "  while not g.game_over():\n",
    "    e0,e1 = r.move(g)\n",
    "    g.make_a_move(e0,e1)\n",
    "\n",
    "  print(g.count_territory())"
   ]
  },
  {
   "cell_type": "code",
   "execution_count": null,
   "metadata": {},
   "outputs": [],
   "source": [
    "import concurrent.futures\n",
    "import os\n",
    "\n",
    "def task(n):\n",
    "    print(f'Process ID: {os.getpid()} - Computing {n} squared.')\n",
    "    return n * n\n",
    "\n",
    "if __name__ == '__main__':\n",
    "    numbers = [1, 2, 3, 4, 5]\n",
    "    \n",
    "    # Using ProcessPoolExecutor to parallelize the task\n",
    "    with concurrent.futures.ProcessPoolExecutor() as executor:\n",
    "        # Map returns the results in the order that the input iterable was provided\n",
    "        results = list(executor.map(task, numbers))\n",
    "    \n",
    "    print(f'Results: {results}')"
   ]
  },
  {
   "cell_type": "code",
   "execution_count": null,
   "metadata": {},
   "outputs": [],
   "source": [
    "a = [1,2,3]\n",
    "aa = iter(a)\n",
    "next(aa)"
   ]
  },
  {
   "cell_type": "code",
   "execution_count": null,
   "metadata": {},
   "outputs": [],
   "source": [
    "# c1 = Competition(2)\n",
    "\n",
    "# c1.run_n_times(2)\n",
    "\n",
    "r = Random_Agent()\n",
    "for _ in range(10):\n",
    "  g = Go()\n",
    "  while not g.game_over():\n",
    "    e0,e1 = r.move(g.possible_moves())\n",
    "    g.make_a_move(e0,e1)\n",
    "    \n",
    "    \n",
    "  print(np.count_nonzero(g.board == 1))\n",
    "  print(np.count_nonzero(g.board == 2))"
   ]
  },
  {
   "cell_type": "code",
   "execution_count": null,
   "metadata": {},
   "outputs": [],
   "source": [
    "len(g.possible_moves())"
   ]
  },
  {
   "cell_type": "code",
   "execution_count": null,
   "metadata": {},
   "outputs": [],
   "source": [
    "from multiprocessing import Pool\n",
    "import time\n",
    "\n",
    "def f():\n",
    "  return 333\n",
    "\n",
    "pool = Pool(processes=4)\n",
    "# pool.map(f, [() for _ in range(100)])\n",
    "pool.apply_async(f)\n",
    "# r = pool.map(f, [() for _ in range(10)])\n",
    "# r.wait()\n",
    "r.get()\n",
    "# DO STUFF\n",
    "# r.wait()\n",
    "\n",
    "# from multiprocessing import Pool\n",
    "# import time\n",
    "# import os\n",
    "# def f():\n",
    "#     return os.urandom(1)\n",
    "\n",
    "# pool = Pool(processes=4)\n",
    "\n",
    "#         # print \"[0, 1, 4,..., 81]\"\n",
    "# print(pool.starmap(f,[() for _ in range(10)] ))\n"
   ]
  },
  {
   "cell_type": "code",
   "execution_count": null,
   "metadata": {},
   "outputs": [],
   "source": []
  }
 ],
 "metadata": {
  "kernelspec": {
   "display_name": "rapids-24.10",
   "language": "python",
   "name": "python3"
  },
  "language_info": {
   "codemirror_mode": {
    "name": "ipython",
    "version": 3
   },
   "file_extension": ".py",
   "mimetype": "text/x-python",
   "name": "python",
   "nbconvert_exporter": "python",
   "pygments_lexer": "ipython3",
   "version": "3.12.7"
  }
 },
 "nbformat": 4,
 "nbformat_minor": 2
}
